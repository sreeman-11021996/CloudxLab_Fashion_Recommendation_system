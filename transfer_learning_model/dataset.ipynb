{
 "cells": [
  {
   "cell_type": "code",
   "execution_count": 1,
   "metadata": {
    "colab": {
     "base_uri": "https://localhost:8080/"
    },
    "id": "zmeGkXWUmYAK",
    "outputId": "da90ac06-685e-4ba8-c280-db88cbe24d49"
   },
   "outputs": [
    {
     "name": "stdout",
     "output_type": "stream",
     "text": [
      "Looking in indexes: https://pypi.org/simple, https://us-python.pkg.dev/colab-wheels/public/simple/\n",
      "Collecting import_ipynb\n",
      "  Downloading import_ipynb-0.1.4-py3-none-any.whl (4.1 kB)\n",
      "Requirement already satisfied: IPython in /usr/local/lib/python3.7/dist-packages (from import_ipynb) (7.9.0)\n",
      "Requirement already satisfied: nbformat in /usr/local/lib/python3.7/dist-packages (from import_ipynb) (5.7.0)\n",
      "Requirement already satisfied: pickleshare in /usr/local/lib/python3.7/dist-packages (from IPython->import_ipynb) (0.7.5)\n",
      "Requirement already satisfied: backcall in /usr/local/lib/python3.7/dist-packages (from IPython->import_ipynb) (0.2.0)\n",
      "Requirement already satisfied: setuptools>=18.5 in /usr/local/lib/python3.7/dist-packages (from IPython->import_ipynb) (57.4.0)\n",
      "Requirement already satisfied: decorator in /usr/local/lib/python3.7/dist-packages (from IPython->import_ipynb) (4.4.2)\n",
      "Requirement already satisfied: traitlets>=4.2 in /usr/local/lib/python3.7/dist-packages (from IPython->import_ipynb) (5.1.1)\n",
      "Collecting jedi>=0.10\n",
      "  Downloading jedi-0.18.1-py2.py3-none-any.whl (1.6 MB)\n",
      "\u001b[K     |████████████████████████████████| 1.6 MB 4.1 MB/s \n",
      "\u001b[?25hRequirement already satisfied: pexpect in /usr/local/lib/python3.7/dist-packages (from IPython->import_ipynb) (4.8.0)\n",
      "Requirement already satisfied: pygments in /usr/local/lib/python3.7/dist-packages (from IPython->import_ipynb) (2.6.1)\n",
      "Requirement already satisfied: prompt-toolkit<2.1.0,>=2.0.0 in /usr/local/lib/python3.7/dist-packages (from IPython->import_ipynb) (2.0.10)\n",
      "Requirement already satisfied: parso<0.9.0,>=0.8.0 in /usr/local/lib/python3.7/dist-packages (from jedi>=0.10->IPython->import_ipynb) (0.8.3)\n",
      "Requirement already satisfied: six>=1.9.0 in /usr/local/lib/python3.7/dist-packages (from prompt-toolkit<2.1.0,>=2.0.0->IPython->import_ipynb) (1.15.0)\n",
      "Requirement already satisfied: wcwidth in /usr/local/lib/python3.7/dist-packages (from prompt-toolkit<2.1.0,>=2.0.0->IPython->import_ipynb) (0.2.5)\n",
      "Requirement already satisfied: importlib-metadata>=3.6 in /usr/local/lib/python3.7/dist-packages (from nbformat->import_ipynb) (4.13.0)\n",
      "Requirement already satisfied: jupyter-core in /usr/local/lib/python3.7/dist-packages (from nbformat->import_ipynb) (4.11.2)\n",
      "Requirement already satisfied: fastjsonschema in /usr/local/lib/python3.7/dist-packages (from nbformat->import_ipynb) (2.16.2)\n",
      "Requirement already satisfied: jsonschema>=2.6 in /usr/local/lib/python3.7/dist-packages (from nbformat->import_ipynb) (4.3.3)\n",
      "Requirement already satisfied: zipp>=0.5 in /usr/local/lib/python3.7/dist-packages (from importlib-metadata>=3.6->nbformat->import_ipynb) (3.10.0)\n",
      "Requirement already satisfied: typing-extensions>=3.6.4 in /usr/local/lib/python3.7/dist-packages (from importlib-metadata>=3.6->nbformat->import_ipynb) (4.1.1)\n",
      "Requirement already satisfied: pyrsistent!=0.17.0,!=0.17.1,!=0.17.2,>=0.14.0 in /usr/local/lib/python3.7/dist-packages (from jsonschema>=2.6->nbformat->import_ipynb) (0.19.2)\n",
      "Requirement already satisfied: attrs>=17.4.0 in /usr/local/lib/python3.7/dist-packages (from jsonschema>=2.6->nbformat->import_ipynb) (22.1.0)\n",
      "Requirement already satisfied: importlib-resources>=1.4.0 in /usr/local/lib/python3.7/dist-packages (from jsonschema>=2.6->nbformat->import_ipynb) (5.10.0)\n",
      "Requirement already satisfied: ptyprocess>=0.5 in /usr/local/lib/python3.7/dist-packages (from pexpect->IPython->import_ipynb) (0.7.0)\n",
      "Installing collected packages: jedi, import-ipynb\n",
      "Successfully installed import-ipynb-0.1.4 jedi-0.18.1\n"
     ]
    }
   ],
   "source": [
    "!pip install import_ipynb\n",
    "import import_ipynb"
   ]
  },
  {
   "cell_type": "code",
   "execution_count": 5,
   "metadata": {
    "id": "MXWybWJRk9ix"
   },
   "outputs": [],
   "source": [
    "import cv2\n",
    "import tensorflow\n",
    "from tensorflow import keras\n",
    "from keras.preprocessing.image import ImageDataGenerator\n",
    "import math\n",
    "from utils import clean_data_,map_label_dicts\n",
    "import numpy as np\n",
    "import os\n",
    "import tensorflow\n",
    "from keras.applications.resnet import preprocess_input"
   ]
  },
  {
   "cell_type": "code",
   "execution_count": 4,
   "metadata": {
    "id": "kLd8LbIOlGyA"
   },
   "outputs": [],
   "source": [
    "def train_val_split(df):\n",
    "    # remove rows from the DataFrame which do not have corresponding images\n",
    "\n",
    "    # shuffle the dataframe\n",
    "    # sample(frac=1) -> gives us a shuffled dataset, then we reset the index\n",
    "    df = df.sample(frac=1).reset_index(drop=True)\n",
    "\n",
    "    # 90% for training and 10% for validation\n",
    "    num_train_samples = math.floor(len(df) * 0.90)\n",
    "    num_val_samples = math.floor(len(df) * 0.10)\n",
    "    train_df = df[:num_train_samples].reset_index()\n",
    "    val_df = df[-num_val_samples:].reset_index(drop=True).reset_index()\n",
    "    return train_df, val_df"
   ]
  },
  {
   "cell_type": "code",
   "execution_count": 6,
   "metadata": {
    "id": "SVVzyFMIlJky"
   },
   "outputs": [],
   "source": [
    "class FashionDataset:\n",
    "    def __init__(self,df,labels=[\"gender\",\"masterCategory\",\"subCategory\"]):\n",
    "        df = clean_data_(df)\n",
    "        gender,master,sub = map_label_dicts(df)\n",
    "        self.labels = labels\n",
    "        self.label_mappings(df)\n",
    "\n",
    "        self.num_list_gender = gender\n",
    "        self.num_list_master = master\n",
    "        self.num_list_sub = sub\n",
    "        \n",
    "        # the training transforms and augmentations\n",
    "        self.datagen = ImageDataGenerator(\n",
    "            rescale=1./255,\n",
    "            horizontal_flip=True,\n",
    "            vertical_flip=True,\n",
    "            rotation_range = 40,\n",
    "            shear_range = 0.2,\n",
    "            zoom_range = 0.2,\n",
    "            width_shift_range=0.2,\n",
    "            height_shift_range = 0.2)\n",
    "        \n",
    "        self.datagen_transfer = ImageDataGenerator(\n",
    "            preprocessing_function=preprocess_input,\n",
    "            horizontal_flip=True,\n",
    "            vertical_flip=True,\n",
    "            rotation_range = 40,\n",
    "            shear_range = 0.2,\n",
    "            zoom_range = 0.2,\n",
    "            width_shift_range=0.2,\n",
    "            height_shift_range = 0.2)\n",
    "       \n",
    "    def label_mappings(self,df):\n",
    "        df[\"classes\"] = df[self.labels].apply(tuple, axis=1)\n",
    "        df[\"id\"] = df[\"id\"].astype(str) + \".jpg\"\n",
    "        self.df = df.reset_index(drop=True)[[\"id\",\"classes\"]]\n",
    "        \n",
    "\n",
    "    def __len__(self):\n",
    "        return len(self.df)\n",
    "\n",
    "    def preprocess(self,img_path):\n",
    "        image = image.load_img(img_path,target_size=(224,224))\n",
    "        img_array = image.img_to_array(image)\n",
    "        expanded_img_array = np.expand_dims(img_array, axis=0)\n",
    "        preprocessed_img = expanded_img_array/255\n",
    "        return preprocessed_img\n",
    "\n",
    "    def __getitem__(self, index):\n",
    "        # one image\n",
    "        root_dir = \"images\"\n",
    "        img_filename = str(self.df['id'][index]) + \".jpg\"\n",
    "        img_path = os.path.join(root_dir,img_filename)\n",
    "\n",
    "        image = self.preprocess(img_path)\n",
    "\n",
    "        cat_gender = self.df['gender'][index]\n",
    "        label_gender = self.num_list_gender[cat_gender]\n",
    "        cat_master = self.df['masterCategory'][index]\n",
    "        label_master = self.num_list_master[cat_master]\n",
    "        cat_sub = self.df['subCategory'][index]\n",
    "        label_sub = self.num_list_sub[cat_sub]\n",
    "        \n",
    "        # image to float32 tensor\n",
    "        image = tensorflow.convert_to_tensor(image, dtype=tensorflow.float32)\n",
    "        # labels to long tensors\n",
    "        label_gender = tensorflow.convert_to_tensor(label_gender, \n",
    "                                                    dtype=tensorflow.long)\n",
    "        label_master = tensorflow.convert_to_tensor(label_master, \n",
    "                                                    dtype=tensorflow.long)\n",
    "        label_sub = tensorflow.convert_to_tensor(label_sub, \n",
    "                                                 dtype=tensorflow.long)\n",
    "        return {\n",
    "            'image': image,\n",
    "            'gender': label_gender,\n",
    "            'master': label_master,\n",
    "            'sub': label_sub\n",
    "        }"
   ]
  },
  {
   "cell_type": "code",
   "execution_count": null,
   "metadata": {
    "id": "nfiI1DtOnTM1"
   },
   "outputs": [],
   "source": []
  }
 ],
 "metadata": {
  "colab": {
   "provenance": []
  },
  "kernelspec": {
   "display_name": "Python 3",
   "language": "python",
   "name": "python3"
  },
  "language_info": {
   "codemirror_mode": {
    "name": "ipython",
    "version": 3
   },
   "file_extension": ".py",
   "mimetype": "text/x-python",
   "name": "python",
   "nbconvert_exporter": "python",
   "pygments_lexer": "ipython3",
   "version": "3.8.8"
  }
 },
 "nbformat": 4,
 "nbformat_minor": 1
}
